{
 "cells": [
  {
   "cell_type": "code",
   "execution_count": 1,
   "id": "a10008fd",
   "metadata": {
    "ExecuteTime": {
     "end_time": "2023-07-03T09:17:41.533482Z",
     "start_time": "2023-07-03T09:17:41.283208Z"
    }
   },
   "outputs": [],
   "source": [
    "# pip install yfinance\n",
    "\n",
    "import yfinance as yahooFinance"
   ]
  },
  {
   "cell_type": "code",
   "execution_count": 2,
   "id": "c73b83a5",
   "metadata": {
    "ExecuteTime": {
     "end_time": "2023-07-03T09:17:41.896919Z",
     "start_time": "2023-07-03T09:17:41.538534Z"
    }
   },
   "outputs": [
    {
     "data": {
      "text/plain": [
       "8.767457976708044"
      ]
     },
     "execution_count": 2,
     "metadata": {},
     "output_type": "execute_result"
    }
   ],
   "source": [
    "obj = yahooFinance.Ticker(\"GBPCNY=X\")\n",
    "\n",
    "# obj.info\n",
    "\n",
    "obj.history(period=\"3mo\")[\"Close\"].mean()"
   ]
  }
 ],
 "metadata": {
  "kernelspec": {
   "display_name": "Python 3 (ipykernel)",
   "language": "python",
   "name": "python3"
  },
  "language_info": {
   "codemirror_mode": {
    "name": "ipython",
    "version": 3
   },
   "file_extension": ".py",
   "mimetype": "text/x-python",
   "name": "python",
   "nbconvert_exporter": "python",
   "pygments_lexer": "ipython3",
   "version": "3.11.3"
  },
  "toc": {
   "base_numbering": 1,
   "nav_menu": {},
   "number_sections": true,
   "sideBar": true,
   "skip_h1_title": false,
   "title_cell": "Table of Contents",
   "title_sidebar": "Contents",
   "toc_cell": false,
   "toc_position": {},
   "toc_section_display": true,
   "toc_window_display": false
  }
 },
 "nbformat": 4,
 "nbformat_minor": 5
}
