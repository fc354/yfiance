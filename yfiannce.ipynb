{
 "cells": [
  {
   "cell_type": "code",
   "execution_count": 1,
   "id": "6818a091",
   "metadata": {
    "ExecuteTime": {
     "end_time": "2023-09-28T12:21:54.353213Z",
     "start_time": "2023-09-28T12:21:54.348337Z"
    }
   },
   "outputs": [],
   "source": [
    "# !pip install yfinance"
   ]
  },
  {
   "cell_type": "code",
   "execution_count": 2,
   "id": "3e56b44b",
   "metadata": {
    "ExecuteTime": {
     "end_time": "2023-09-28T12:21:54.645459Z",
     "start_time": "2023-09-28T12:21:54.355080Z"
    }
   },
   "outputs": [],
   "source": [
    "import yfinance as yahooFinance"
   ]
  },
  {
   "cell_type": "code",
   "execution_count": 3,
   "id": "dbe59298",
   "metadata": {
    "ExecuteTime": {
     "end_time": "2023-09-28T12:21:54.762737Z",
     "start_time": "2023-09-28T12:21:54.646737Z"
    }
   },
   "outputs": [],
   "source": [
    "obj = yahooFinance.Ticker(\"GBPCNY=X\")\n",
    "\n",
    "# obj.info\n",
    "\n",
    "s = obj.history(period=\"3mo\")[\"Close\"]"
   ]
  },
  {
   "cell_type": "code",
   "execution_count": 4,
   "id": "ef1e62a3",
   "metadata": {
    "ExecuteTime": {
     "end_time": "2023-09-28T12:21:54.768230Z",
     "start_time": "2023-09-28T12:21:54.764434Z"
    }
   },
   "outputs": [
    {
     "data": {
      "text/plain": [
       "Date\n",
       "2023-09-22 00:00:00+01:00    8.829833\n",
       "2023-09-25 00:00:00+01:00    8.779618\n",
       "2023-09-26 00:00:00+01:00    8.766335\n",
       "2023-09-27 00:00:00+01:00    8.719962\n",
       "2023-09-28 00:00:00+01:00    8.913600\n",
       "Name: Close, dtype: float64"
      ]
     },
     "execution_count": 4,
     "metadata": {},
     "output_type": "execute_result"
    }
   ],
   "source": [
    "s.tail()"
   ]
  },
  {
   "cell_type": "code",
   "execution_count": 5,
   "id": "7bd47436",
   "metadata": {
    "ExecuteTime": {
     "end_time": "2023-09-28T12:21:54.771232Z",
     "start_time": "2023-09-28T12:21:54.769021Z"
    }
   },
   "outputs": [
    {
     "data": {
      "text/plain": [
       "9.10022298613591"
      ]
     },
     "execution_count": 5,
     "metadata": {},
     "output_type": "execute_result"
    }
   ],
   "source": [
    "m = s.mean()\n",
    "\n",
    "m"
   ]
  },
  {
   "cell_type": "code",
   "execution_count": 6,
   "id": "42937aa3",
   "metadata": {
    "ExecuteTime": {
     "end_time": "2023-09-28T12:21:54.774232Z",
     "start_time": "2023-09-28T12:21:54.771896Z"
    }
   },
   "outputs": [
    {
     "data": {
      "text/plain": [
       "6142.650515641739"
      ]
     },
     "execution_count": 6,
     "metadata": {},
     "output_type": "execute_result"
    }
   ],
   "source": [
    "675 * m"
   ]
  },
  {
   "cell_type": "code",
   "execution_count": 7,
   "id": "11f4ef68",
   "metadata": {
    "ExecuteTime": {
     "end_time": "2023-09-28T12:21:54.777233Z",
     "start_time": "2023-09-28T12:21:54.775155Z"
    }
   },
   "outputs": [
    {
     "data": {
      "text/plain": [
       "18427.951546925215"
      ]
     },
     "execution_count": 7,
     "metadata": {},
     "output_type": "execute_result"
    }
   ],
   "source": [
    "675 * m * 3"
   ]
  },
  {
   "cell_type": "code",
   "execution_count": null,
   "id": "0a6d188b",
   "metadata": {},
   "outputs": [],
   "source": []
  }
 ],
 "metadata": {
  "kernelspec": {
   "display_name": "Python 3 (ipykernel)",
   "language": "python",
   "name": "python3"
  },
  "language_info": {
   "codemirror_mode": {
    "name": "ipython",
    "version": 3
   },
   "file_extension": ".py",
   "mimetype": "text/x-python",
   "name": "python",
   "nbconvert_exporter": "python",
   "pygments_lexer": "ipython3",
   "version": "3.11.3"
  },
  "toc": {
   "base_numbering": 1,
   "nav_menu": {},
   "number_sections": true,
   "sideBar": true,
   "skip_h1_title": false,
   "title_cell": "Table of Contents",
   "title_sidebar": "Contents",
   "toc_cell": false,
   "toc_position": {},
   "toc_section_display": true,
   "toc_window_display": false
  }
 },
 "nbformat": 4,
 "nbformat_minor": 5
}
