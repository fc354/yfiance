{
 "cells": [
  {
   "cell_type": "code",
   "execution_count": 1,
   "id": "3e56b44b",
   "metadata": {
    "ExecuteTime": {
     "end_time": "2023-07-03T09:21:40.408389Z",
     "start_time": "2023-07-03T09:21:40.157443Z"
    }
   },
   "outputs": [],
   "source": [
    "# pip install yfinance\n",
    "\n",
    "import yfinance as yahooFinance"
   ]
  },
  {
   "cell_type": "code",
   "execution_count": 2,
   "id": "7bd47436",
   "metadata": {
    "ExecuteTime": {
     "end_time": "2023-07-03T09:21:40.718606Z",
     "start_time": "2023-07-03T09:21:40.414987Z"
    }
   },
   "outputs": [
    {
     "data": {
      "text/plain": [
       "8.767457976708044"
      ]
     },
     "execution_count": 2,
     "metadata": {},
     "output_type": "execute_result"
    }
   ],
   "source": [
    "obj = yahooFinance.Ticker(\"GBPCNY=X\")\n",
    "\n",
    "# obj.info\n",
    "\n",
    "m = obj.history(period=\"3mo\")[\"Close\"].mean()\n",
    "\n",
    "m"
   ]
  },
  {
   "cell_type": "code",
   "execution_count": 3,
   "id": "42937aa3",
   "metadata": {
    "ExecuteTime": {
     "end_time": "2023-07-03T09:21:40.723202Z",
     "start_time": "2023-07-03T09:21:40.719910Z"
    }
   },
   "outputs": [
    {
     "data": {
      "text/plain": [
       "5918.03413427793"
      ]
     },
     "execution_count": 3,
     "metadata": {},
     "output_type": "execute_result"
    }
   ],
   "source": [
    "675 * m"
   ]
  },
  {
   "cell_type": "code",
   "execution_count": 4,
   "id": "11f4ef68",
   "metadata": {
    "ExecuteTime": {
     "end_time": "2023-07-03T09:23:31.311867Z",
     "start_time": "2023-07-03T09:23:31.307755Z"
    }
   },
   "outputs": [
    {
     "data": {
      "text/plain": [
       "17754.102402833792"
      ]
     },
     "execution_count": 4,
     "metadata": {},
     "output_type": "execute_result"
    }
   ],
   "source": [
    "675 * m * 3"
   ]
  },
  {
   "cell_type": "code",
   "execution_count": null,
   "id": "0a6d188b",
   "metadata": {},
   "outputs": [],
   "source": []
  }
 ],
 "metadata": {
  "kernelspec": {
   "display_name": "Python 3 (ipykernel)",
   "language": "python",
   "name": "python3"
  },
  "language_info": {
   "codemirror_mode": {
    "name": "ipython",
    "version": 3
   },
   "file_extension": ".py",
   "mimetype": "text/x-python",
   "name": "python",
   "nbconvert_exporter": "python",
   "pygments_lexer": "ipython3",
   "version": "3.11.3"
  },
  "toc": {
   "base_numbering": 1,
   "nav_menu": {},
   "number_sections": true,
   "sideBar": true,
   "skip_h1_title": false,
   "title_cell": "Table of Contents",
   "title_sidebar": "Contents",
   "toc_cell": false,
   "toc_position": {},
   "toc_section_display": true,
   "toc_window_display": false
  }
 },
 "nbformat": 4,
 "nbformat_minor": 5
}
